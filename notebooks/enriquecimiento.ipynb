{
 "cells": [
  {
   "cell_type": "code",
   "execution_count": 1,
   "id": "01b216dc-b65c-4f1d-a323-89df5b1954d5",
   "metadata": {
    "tags": []
   },
   "outputs": [],
   "source": [
    "%matplotlib inline\n",
    "import pandas as pd"
   ]
  },
  {
   "cell_type": "markdown",
   "id": "5eef8062-3d1e-48e8-8983-65b06a0da7c4",
   "metadata": {},
   "source": [
    "## Expanción de fecha "
   ]
  },
  {
   "cell_type": "code",
   "execution_count": 2,
   "id": "86de8268-6709-4932-b752-f975726c26a9",
   "metadata": {
    "tags": []
   },
   "outputs": [],
   "source": [
    "compras_df = pd.read_csv ('data/clean_compras.csv')"
   ]
  },
  {
   "cell_type": "code",
   "execution_count": 4,
   "id": "9b0b98f9-8e2d-4f11-81be-e7323872b522",
   "metadata": {
    "tags": []
   },
   "outputs": [
    {
     "data": {
      "text/plain": [
       "NUM BEN           int64\n",
       "BENEFICIARIO     object\n",
       "RFC              object\n",
       "FACTURA          object\n",
       "CONTRATO         object\n",
       "CONCEPTO         object\n",
       "TIPO             object\n",
       "# OP            float64\n",
       "FECHA            object\n",
       "IMPORTE         float64\n",
       "SHEET            object\n",
       "dtype: object"
      ]
     },
     "execution_count": 4,
     "metadata": {},
     "output_type": "execute_result"
    }
   ],
   "source": [
    "compras_df.dtypes"
   ]
  },
  {
   "cell_type": "code",
   "execution_count": 5,
   "id": "d88f3608-b52a-4f8f-a94a-2092f0f64a7b",
   "metadata": {
    "tags": []
   },
   "outputs": [],
   "source": [
    "compras_df['FECHA'] = pd.to_datetime(compras_df['FECHA'])"
   ]
  },
  {
   "cell_type": "code",
   "execution_count": 10,
   "id": "307aa307-8480-41f0-a99c-7255ccdd71f9",
   "metadata": {
    "tags": []
   },
   "outputs": [],
   "source": [
    "compras_df['DIA'] = compras_df['FECHA'].apply(lambda x: x.day)\n",
    "compras_df['MES'] = compras_df['FECHA'].apply(lambda x: x.month)\n",
    "compras_df['ANO'] = compras_df['FECHA'].apply(lambda x: x.year)"
   ]
  },
  {
   "cell_type": "markdown",
   "id": "7f565b4c-d7cd-48c1-b989-74d34e970871",
   "metadata": {},
   "source": [
    "## Proyectemos unas variables contra otras"
   ]
  },
  {
   "cell_type": "code",
   "execution_count": 11,
   "id": "4570e728-beb2-4243-9528-df1394f6229c",
   "metadata": {
    "tags": []
   },
   "outputs": [],
   "source": [
    "beneficiario_sales = compras_df['BENEFICIARIO'].value_counts().to_dict()"
   ]
  },
  {
   "cell_type": "code",
   "execution_count": 13,
   "id": "4ffde215-a493-43c5-81f9-afbd4cfa8283",
   "metadata": {
    "tags": []
   },
   "outputs": [
    {
     "data": {
      "text/plain": [
       "['CAMARA MEXICANA DE LA INDUSTRIA DE LA CONSTRUCCION',\n",
       " 'AUTOKAM REGIOMONTANA,S.A.DE C.V.',\n",
       " 'CAR ONE MONTERREY, S.A. DE C.V.',\n",
       " 'PEREZ RIOS RAMIRO',\n",
       " 'S.I.M.E.P.R.O.D.E.']"
      ]
     },
     "execution_count": 13,
     "metadata": {},
     "output_type": "execute_result"
    }
   ],
   "source": [
    "list(beneficiario_sales.keys())[0:5]"
   ]
  },
  {
   "cell_type": "code",
   "execution_count": 14,
   "id": "e87cc789-5c98-4743-93cd-ac9df037d602",
   "metadata": {
    "tags": []
   },
   "outputs": [],
   "source": [
    "compras_df['BENEFICIARIO_SALES'] = compras_df['BENEFICIARIO'].apply(lambda x: beneficiario_sales[x]) "
   ]
  },
  {
   "cell_type": "code",
   "execution_count": 15,
   "id": "a2c97ed3-513b-407a-8776-ac93ab4b4800",
   "metadata": {
    "tags": []
   },
   "outputs": [
    {
     "data": {
      "text/html": [
       "<div>\n",
       "<style scoped>\n",
       "    .dataframe tbody tr th:only-of-type {\n",
       "        vertical-align: middle;\n",
       "    }\n",
       "\n",
       "    .dataframe tbody tr th {\n",
       "        vertical-align: top;\n",
       "    }\n",
       "\n",
       "    .dataframe thead th {\n",
       "        text-align: right;\n",
       "    }\n",
       "</style>\n",
       "<table border=\"1\" class=\"dataframe\">\n",
       "  <thead>\n",
       "    <tr style=\"text-align: right;\">\n",
       "      <th></th>\n",
       "      <th>NUM BEN</th>\n",
       "      <th>BENEFICIARIO</th>\n",
       "      <th>RFC</th>\n",
       "      <th>FACTURA</th>\n",
       "      <th>CONTRATO</th>\n",
       "      <th>CONCEPTO</th>\n",
       "      <th>TIPO</th>\n",
       "      <th># OP</th>\n",
       "      <th>FECHA</th>\n",
       "      <th>IMPORTE</th>\n",
       "      <th>SHEET</th>\n",
       "      <th>DIA</th>\n",
       "      <th>MES</th>\n",
       "      <th>ANO</th>\n",
       "      <th>BENEFICIARIO_SALES</th>\n",
       "    </tr>\n",
       "  </thead>\n",
       "  <tbody>\n",
       "    <tr>\n",
       "      <th>0</th>\n",
       "      <td>110152</td>\n",
       "      <td>LLANTAS Y SERVICIOS SERNA ANAHUAC,S.A. DE C.V.</td>\n",
       "      <td>LSS841015DV3</td>\n",
       "      <td>LLS AF8458-158008-3972</td>\n",
       "      <td>OT. 20204373</td>\n",
       "      <td>REEMPLAZO E INSTALACION DE AMORTIGUADORES (DEL...</td>\n",
       "      <td>TR</td>\n",
       "      <td>1019110.0</td>\n",
       "      <td>2020-12-11</td>\n",
       "      <td>14911.80</td>\n",
       "      <td>GASTOS VARIOS</td>\n",
       "      <td>11</td>\n",
       "      <td>12</td>\n",
       "      <td>2020</td>\n",
       "      <td>13</td>\n",
       "    </tr>\n",
       "    <tr>\n",
       "      <th>1</th>\n",
       "      <td>110152</td>\n",
       "      <td>LLANTAS Y SERVICIOS SERNA ANAHUAC,S.A. DE C.V.</td>\n",
       "      <td>LSS841015DV3</td>\n",
       "      <td>LLS PF6916-158008-4041</td>\n",
       "      <td>OT. 20204425</td>\n",
       "      <td>REEMPLAZO E INSTALACION DE OCHO BIRLOS Y NUEVE...</td>\n",
       "      <td>TR</td>\n",
       "      <td>1019110.0</td>\n",
       "      <td>2020-12-11</td>\n",
       "      <td>2528.80</td>\n",
       "      <td>GASTOS VARIOS</td>\n",
       "      <td>11</td>\n",
       "      <td>12</td>\n",
       "      <td>2020</td>\n",
       "      <td>13</td>\n",
       "    </tr>\n",
       "    <tr>\n",
       "      <th>2</th>\n",
       "      <td>110152</td>\n",
       "      <td>LLANTAS Y SERVICIOS SERNA ANAHUAC,S.A. DE C.V.</td>\n",
       "      <td>LSS841015DV3</td>\n",
       "      <td>LLS PF6917-158008-3975</td>\n",
       "      <td>OT. 20204376</td>\n",
       "      <td>REEMPLAZO DE DOS RINES  (17). PATRIMONIO 80383...</td>\n",
       "      <td>TR</td>\n",
       "      <td>1019110.0</td>\n",
       "      <td>2020-12-11</td>\n",
       "      <td>8500.02</td>\n",
       "      <td>GASTOS VARIOS</td>\n",
       "      <td>11</td>\n",
       "      <td>12</td>\n",
       "      <td>2020</td>\n",
       "      <td>13</td>\n",
       "    </tr>\n",
       "    <tr>\n",
       "      <th>3</th>\n",
       "      <td>110152</td>\n",
       "      <td>LLANTAS Y SERVICIOS SERNA ANAHUAC,S.A. DE C.V.</td>\n",
       "      <td>LSS841015DV3</td>\n",
       "      <td>LLS PF7004-158008-3971</td>\n",
       "      <td>OT. 20204374</td>\n",
       "      <td>REEMPLAZO DE  DOS RINES  (14). PATRIMONIO 8007...</td>\n",
       "      <td>TR</td>\n",
       "      <td>1019110.0</td>\n",
       "      <td>2020-12-11</td>\n",
       "      <td>2400.01</td>\n",
       "      <td>GASTOS VARIOS</td>\n",
       "      <td>11</td>\n",
       "      <td>12</td>\n",
       "      <td>2020</td>\n",
       "      <td>13</td>\n",
       "    </tr>\n",
       "    <tr>\n",
       "      <th>4</th>\n",
       "      <td>110152</td>\n",
       "      <td>LLANTAS Y SERVICIOS SERNA ANAHUAC,S.A. DE C.V.</td>\n",
       "      <td>LSS841015DV3</td>\n",
       "      <td>LLS PF7137-158008-4554</td>\n",
       "      <td>OT. 20205130</td>\n",
       "      <td>REEMPLAZO E INSTALACION DE RIN 14. PATRIMONIO ...</td>\n",
       "      <td>TR</td>\n",
       "      <td>299001496.0</td>\n",
       "      <td>2020-12-23</td>\n",
       "      <td>1537.00</td>\n",
       "      <td>GASTOS VARIOS</td>\n",
       "      <td>23</td>\n",
       "      <td>12</td>\n",
       "      <td>2020</td>\n",
       "      <td>13</td>\n",
       "    </tr>\n",
       "    <tr>\n",
       "      <th>...</th>\n",
       "      <td>...</td>\n",
       "      <td>...</td>\n",
       "      <td>...</td>\n",
       "      <td>...</td>\n",
       "      <td>...</td>\n",
       "      <td>...</td>\n",
       "      <td>...</td>\n",
       "      <td>...</td>\n",
       "      <td>...</td>\n",
       "      <td>...</td>\n",
       "      <td>...</td>\n",
       "      <td>...</td>\n",
       "      <td>...</td>\n",
       "      <td>...</td>\n",
       "      <td>...</td>\n",
       "    </tr>\n",
       "    <tr>\n",
       "      <th>1535</th>\n",
       "      <td>203016</td>\n",
       "      <td>SEGOVIA PAEZ MARCELO</td>\n",
       "      <td>SEPM8603058S7</td>\n",
       "      <td>116033-158004-1689</td>\n",
       "      <td>NO APLICA</td>\n",
       "      <td>FINIQUITO 116033</td>\n",
       "      <td>CH</td>\n",
       "      <td>1104570.0</td>\n",
       "      <td>2020-12-11</td>\n",
       "      <td>183992.72</td>\n",
       "      <td>SERV. PERS.</td>\n",
       "      <td>11</td>\n",
       "      <td>12</td>\n",
       "      <td>2020</td>\n",
       "      <td>2</td>\n",
       "    </tr>\n",
       "    <tr>\n",
       "      <th>1536</th>\n",
       "      <td>203016</td>\n",
       "      <td>SEGOVIA PAEZ MARCELO</td>\n",
       "      <td>SEPM8603058S7</td>\n",
       "      <td>116033-158004-1690</td>\n",
       "      <td>NO APLICA</td>\n",
       "      <td>FONDO PENSIONES 116033</td>\n",
       "      <td>CH</td>\n",
       "      <td>1104571.0</td>\n",
       "      <td>2020-12-11</td>\n",
       "      <td>56430.00</td>\n",
       "      <td>SERV. PERS.</td>\n",
       "      <td>11</td>\n",
       "      <td>12</td>\n",
       "      <td>2020</td>\n",
       "      <td>2</td>\n",
       "    </tr>\n",
       "    <tr>\n",
       "      <th>1537</th>\n",
       "      <td>203016</td>\n",
       "      <td>TORRES ACOSTA ROBERTO CARLOS</td>\n",
       "      <td>TOAR8409234Y0</td>\n",
       "      <td>113052-158004-1725</td>\n",
       "      <td>NO APLICA</td>\n",
       "      <td>FONDO DE PENSIONES 113052</td>\n",
       "      <td>CH</td>\n",
       "      <td>299000183.0</td>\n",
       "      <td>2020-12-16</td>\n",
       "      <td>7425.00</td>\n",
       "      <td>SERV. PERS.</td>\n",
       "      <td>16</td>\n",
       "      <td>12</td>\n",
       "      <td>2020</td>\n",
       "      <td>2</td>\n",
       "    </tr>\n",
       "    <tr>\n",
       "      <th>1538</th>\n",
       "      <td>203016</td>\n",
       "      <td>TOVAR CEDILLO JAVIER ALFONSO</td>\n",
       "      <td>TOCJ750710A31</td>\n",
       "      <td>23016-158004-1705</td>\n",
       "      <td>NO APLICA</td>\n",
       "      <td>PAGO 30%  JUICIO DE AMPARO No. 673/2020 (DICIE...</td>\n",
       "      <td>CH</td>\n",
       "      <td>299000179.0</td>\n",
       "      <td>2020-12-15</td>\n",
       "      <td>4084.68</td>\n",
       "      <td>SERV. PERS.</td>\n",
       "      <td>15</td>\n",
       "      <td>12</td>\n",
       "      <td>2020</td>\n",
       "      <td>1</td>\n",
       "    </tr>\n",
       "    <tr>\n",
       "      <th>1539</th>\n",
       "      <td>203016</td>\n",
       "      <td>VILLARREAL CARDENAS NANCY ESTHER</td>\n",
       "      <td>VICN801211SM7</td>\n",
       "      <td>113711-158004-1711</td>\n",
       "      <td>NO APLICA</td>\n",
       "      <td>FONDO PENSIONES 113711</td>\n",
       "      <td>CH</td>\n",
       "      <td>1104567.0</td>\n",
       "      <td>2020-12-11</td>\n",
       "      <td>22575.00</td>\n",
       "      <td>SERV. PERS.</td>\n",
       "      <td>11</td>\n",
       "      <td>12</td>\n",
       "      <td>2020</td>\n",
       "      <td>2</td>\n",
       "    </tr>\n",
       "  </tbody>\n",
       "</table>\n",
       "<p>1540 rows × 15 columns</p>\n",
       "</div>"
      ],
      "text/plain": [
       "      NUM BEN                                    BENEFICIARIO            RFC  \\\n",
       "0      110152  LLANTAS Y SERVICIOS SERNA ANAHUAC,S.A. DE C.V.   LSS841015DV3   \n",
       "1      110152  LLANTAS Y SERVICIOS SERNA ANAHUAC,S.A. DE C.V.   LSS841015DV3   \n",
       "2      110152  LLANTAS Y SERVICIOS SERNA ANAHUAC,S.A. DE C.V.   LSS841015DV3   \n",
       "3      110152  LLANTAS Y SERVICIOS SERNA ANAHUAC,S.A. DE C.V.   LSS841015DV3   \n",
       "4      110152  LLANTAS Y SERVICIOS SERNA ANAHUAC,S.A. DE C.V.   LSS841015DV3   \n",
       "...       ...                                             ...            ...   \n",
       "1535   203016                            SEGOVIA PAEZ MARCELO  SEPM8603058S7   \n",
       "1536   203016                            SEGOVIA PAEZ MARCELO  SEPM8603058S7   \n",
       "1537   203016                    TORRES ACOSTA ROBERTO CARLOS  TOAR8409234Y0   \n",
       "1538   203016                    TOVAR CEDILLO JAVIER ALFONSO  TOCJ750710A31   \n",
       "1539   203016                VILLARREAL CARDENAS NANCY ESTHER  VICN801211SM7   \n",
       "\n",
       "                     FACTURA      CONTRATO  \\\n",
       "0     LLS AF8458-158008-3972  OT. 20204373   \n",
       "1     LLS PF6916-158008-4041  OT. 20204425   \n",
       "2     LLS PF6917-158008-3975  OT. 20204376   \n",
       "3     LLS PF7004-158008-3971  OT. 20204374   \n",
       "4     LLS PF7137-158008-4554  OT. 20205130   \n",
       "...                      ...           ...   \n",
       "1535      116033-158004-1689     NO APLICA   \n",
       "1536      116033-158004-1690     NO APLICA   \n",
       "1537      113052-158004-1725     NO APLICA   \n",
       "1538       23016-158004-1705     NO APLICA   \n",
       "1539      113711-158004-1711     NO APLICA   \n",
       "\n",
       "                                               CONCEPTO TIPO         # OP  \\\n",
       "0     REEMPLAZO E INSTALACION DE AMORTIGUADORES (DEL...   TR    1019110.0   \n",
       "1     REEMPLAZO E INSTALACION DE OCHO BIRLOS Y NUEVE...   TR    1019110.0   \n",
       "2     REEMPLAZO DE DOS RINES  (17). PATRIMONIO 80383...   TR    1019110.0   \n",
       "3     REEMPLAZO DE  DOS RINES  (14). PATRIMONIO 8007...   TR    1019110.0   \n",
       "4     REEMPLAZO E INSTALACION DE RIN 14. PATRIMONIO ...   TR  299001496.0   \n",
       "...                                                 ...  ...          ...   \n",
       "1535                                   FINIQUITO 116033   CH    1104570.0   \n",
       "1536                             FONDO PENSIONES 116033   CH    1104571.0   \n",
       "1537                          FONDO DE PENSIONES 113052   CH  299000183.0   \n",
       "1538  PAGO 30%  JUICIO DE AMPARO No. 673/2020 (DICIE...   CH  299000179.0   \n",
       "1539                             FONDO PENSIONES 113711   CH    1104567.0   \n",
       "\n",
       "          FECHA    IMPORTE          SHEET  DIA  MES   ANO  BENEFICIARIO_SALES  \n",
       "0    2020-12-11   14911.80  GASTOS VARIOS   11   12  2020                  13  \n",
       "1    2020-12-11    2528.80  GASTOS VARIOS   11   12  2020                  13  \n",
       "2    2020-12-11    8500.02  GASTOS VARIOS   11   12  2020                  13  \n",
       "3    2020-12-11    2400.01  GASTOS VARIOS   11   12  2020                  13  \n",
       "4    2020-12-23    1537.00  GASTOS VARIOS   23   12  2020                  13  \n",
       "...         ...        ...            ...  ...  ...   ...                 ...  \n",
       "1535 2020-12-11  183992.72    SERV. PERS.   11   12  2020                   2  \n",
       "1536 2020-12-11   56430.00    SERV. PERS.   11   12  2020                   2  \n",
       "1537 2020-12-16    7425.00    SERV. PERS.   16   12  2020                   2  \n",
       "1538 2020-12-15    4084.68    SERV. PERS.   15   12  2020                   1  \n",
       "1539 2020-12-11   22575.00    SERV. PERS.   11   12  2020                   2  \n",
       "\n",
       "[1540 rows x 15 columns]"
      ]
     },
     "execution_count": 15,
     "metadata": {},
     "output_type": "execute_result"
    }
   ],
   "source": [
    "compras_df"
   ]
  },
  {
   "cell_type": "code",
   "execution_count": 16,
   "id": "21fca820-0fae-4462-a5d8-35bd0a667ba2",
   "metadata": {
    "tags": []
   },
   "outputs": [],
   "source": [
    "sheet_mean_compras = compras_df.groupby('SHEET')['IMPORTE'].mean()"
   ]
  },
  {
   "cell_type": "code",
   "execution_count": 17,
   "id": "1195bc4e-c378-414a-870f-8b51441fdcff",
   "metadata": {
    "tags": []
   },
   "outputs": [
    {
     "data": {
      "text/plain": [
       "SHEET\n",
       "COMUNICACION              109705.343662\n",
       "CONTRATISTAS Y FDO FED    474566.765787\n",
       "GASTOS VARIOS             881659.731797\n",
       "SERV PPROF                229592.166667\n",
       "SERV. PERS.                59623.405217\n",
       "Name: IMPORTE, dtype: float64"
      ]
     },
     "execution_count": 17,
     "metadata": {},
     "output_type": "execute_result"
    }
   ],
   "source": [
    "sheet_mean_compras"
   ]
  },
  {
   "cell_type": "code",
   "execution_count": 18,
   "id": "e5100087-52b3-449e-bc10-1638820a62cc",
   "metadata": {
    "tags": []
   },
   "outputs": [
    {
     "data": {
      "text/plain": [
       "{'COMUNICACION': 109705.34366197183,\n",
       " 'CONTRATISTAS Y FDO FED': 474566.76578729285,\n",
       " 'GASTOS VARIOS': 881659.7317971016,\n",
       " 'SERV PPROF': 229592.16666666666,\n",
       " 'SERV. PERS.': 59623.40521739131}"
      ]
     },
     "execution_count": 18,
     "metadata": {},
     "output_type": "execute_result"
    }
   ],
   "source": [
    "sheet_mean_compras.to_dict()"
   ]
  },
  {
   "cell_type": "code",
   "execution_count": 19,
   "id": "2fe72911-d4b7-4fc1-8155-b2e5320716c5",
   "metadata": {
    "tags": []
   },
   "outputs": [],
   "source": [
    "compras_df['IMPORTE_GASTO_PROMEDIO'] = compras_df['SHEET'].apply(lambda x: sheet_mean_compras[x]) "
   ]
  },
  {
   "cell_type": "markdown",
   "id": "89f49162-8815-4d22-9db9-f2df25a50be4",
   "metadata": {},
   "source": [
    "## Traernos informacion externa, enriquecer los datos usando una tool de paginas de linkedin"
   ]
  },
  {
   "cell_type": "code",
   "execution_count": 20,
   "id": "718c1cd8-a3ca-42dc-8ae9-b8676b3c726d",
   "metadata": {
    "tags": []
   },
   "outputs": [],
   "source": [
    "pd.DataFrame(compras_df['BENEFICIARIO'].unique()).to_csv('data/unique_beneficiarios.csv', index=None)"
   ]
  },
  {
   "cell_type": "code",
   "execution_count": 22,
   "id": "eb6ca261-cd82-41ef-aeed-da1068c20a60",
   "metadata": {
    "tags": []
   },
   "outputs": [],
   "source": [
    "#Cargar\n",
    "linkedin_mty = pd.read_csv('data/linkedin_mty.csv')"
   ]
  },
  {
   "cell_type": "code",
   "execution_count": 23,
   "id": "688c3b5d-4ce8-4a69-8c9d-935875795294",
   "metadata": {
    "tags": []
   },
   "outputs": [],
   "source": [
    "has_site = {}\n",
    "for i, ele in linkedin_mty.fillna(True).iterrows():\n",
    "    has_site[ele['query']] = True if ele['error'] == True else False"
   ]
  },
  {
   "cell_type": "code",
   "execution_count": 24,
   "id": "66663da2-459a-4ddc-8243-1af5968bcfae",
   "metadata": {
    "tags": []
   },
   "outputs": [],
   "source": [
    "compras_df['HAS_LINKEDIN_SITE'] = compras_df['BENEFICIARIO'].apply(lambda x: has_site[x.replace('  ', ' ')])"
   ]
  },
  {
   "cell_type": "code",
   "execution_count": 25,
   "id": "625f3d81-3d45-41cf-bb6c-4c00331adfb9",
   "metadata": {
    "tags": []
   },
   "outputs": [
    {
     "data": {
      "text/plain": [
       "0       True\n",
       "1       True\n",
       "2       True\n",
       "3       True\n",
       "4       True\n",
       "        ... \n",
       "1535    True\n",
       "1536    True\n",
       "1537    True\n",
       "1538    True\n",
       "1539    True\n",
       "Name: HAS_LINKEDIN_SITE, Length: 1540, dtype: bool"
      ]
     },
     "execution_count": 25,
     "metadata": {},
     "output_type": "execute_result"
    }
   ],
   "source": [
    "compras_df['HAS_LINKEDIN_SITE'] "
   ]
  },
  {
   "cell_type": "code",
   "execution_count": 26,
   "id": "81b0c76b-8131-42c1-b025-18bace43a9ed",
   "metadata": {
    "tags": []
   },
   "outputs": [
    {
     "data": {
      "text/plain": [
       "True     1392\n",
       "False     148\n",
       "Name: HAS_LINKEDIN_SITE, dtype: int64"
      ]
     },
     "execution_count": 26,
     "metadata": {},
     "output_type": "execute_result"
    }
   ],
   "source": [
    "compras_df['HAS_LINKEDIN_SITE'].value_counts()"
   ]
  },
  {
   "cell_type": "code",
   "execution_count": 27,
   "id": "c0a1e8a0-731d-429c-9923-40c5e2080bcc",
   "metadata": {
    "tags": []
   },
   "outputs": [],
   "source": [
    "compras_df.to_csv('data/compras_df_enriched.csv', index=None)"
   ]
  },
  {
   "cell_type": "code",
   "execution_count": null,
   "id": "5f63c135-697c-47ba-ae8d-9bce45a624f5",
   "metadata": {},
   "outputs": [],
   "source": []
  },
  {
   "cell_type": "code",
   "execution_count": null,
   "id": "e015b05c-2aad-4cd3-936a-62937f955701",
   "metadata": {},
   "outputs": [],
   "source": []
  },
  {
   "cell_type": "code",
   "execution_count": null,
   "id": "3536001e-0186-4847-9f47-bd60243caf8c",
   "metadata": {},
   "outputs": [],
   "source": []
  },
  {
   "cell_type": "code",
   "execution_count": null,
   "id": "477ce834-e582-4473-8aac-845269d3d66b",
   "metadata": {},
   "outputs": [],
   "source": []
  }
 ],
 "metadata": {
  "kernelspec": {
   "display_name": "Python 3 (ipykernel)",
   "language": "python",
   "name": "python3"
  },
  "language_info": {
   "codemirror_mode": {
    "name": "ipython",
    "version": 3
   },
   "file_extension": ".py",
   "mimetype": "text/x-python",
   "name": "python",
   "nbconvert_exporter": "python",
   "pygments_lexer": "ipython3",
   "version": "3.11.4"
  }
 },
 "nbformat": 4,
 "nbformat_minor": 5
}
